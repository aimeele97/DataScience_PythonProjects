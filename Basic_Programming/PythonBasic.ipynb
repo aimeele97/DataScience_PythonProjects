{
 "cells": [
  {
   "cell_type": "markdown",
   "id": "13668035-971e-43a2-a002-cbb8da6fe9ca",
   "metadata": {},
   "source": [
    "# PYTHON\n",
    "\n",
    "## Identifiers and literals\n",
    "\n",
    "- indentifiers are name given to a variables\n",
    "- literals are the variables of the identifier, 3 types of literals: numeric, string, boolean"
   ]
  },
  {
   "cell_type": "code",
   "execution_count": null,
   "id": "0b96fcd5-37fd-46ea-8548-7f7c1fac4b9b",
   "metadata": {},
   "outputs": [],
   "source": [
    "a=10\n",
    "b=5.2\n",
    "c='Hello Aimee'\n",
    "d=True\n",
    "print(type(a))\n",
    "print(type(b))\n",
    "print(type(c))\n",
    "print(type(d))"
   ]
  },
  {
   "cell_type": "markdown",
   "id": "53ccb114-7a14-427b-94f7-93e664c7de56",
   "metadata": {},
   "source": [
    "## Expressions and operators\n",
    "\n",
    "- expression is the combination of the operators ( -, +, / )\n",
    "\n",
    "- types of operators: Arithmetic, comparison, logical"
   ]
  },
  {
   "cell_type": "markdown",
   "id": "d44c7505-d0ab-447d-983d-077e2de463ec",
   "metadata": {},
   "source": [
    "## Arithmetic operators\n",
    "\n",
    "- addition: a+b\n",
    "- subtraction: a-b\n",
    "- multiplication: a*b\n",
    "- division: a/b\n",
    "- modulo: a % b\n",
    "- floor division: a // b\n",
    "- exponent: a ** b\n"
   ]
  },
  {
   "cell_type": "code",
   "execution_count": null,
   "id": "0267b392-eda1-475d-b1b8-21d3d1f0d9c7",
   "metadata": {},
   "outputs": [],
   "source": [
    "a=10\n",
    "b=4\n",
    "\n",
    "print(a % b) #remainder after divide the operands\n",
    "print(a // b) #result show the whole number in the left, no decimal\n",
    "print(a ** b) #a power of b ^"
   ]
  },
  {
   "cell_type": "markdown",
   "id": "f97b2959-8eb3-481c-96c9-fbe4a02d5330",
   "metadata": {},
   "source": [
    "## Comparison operators\n",
    "\n",
    "- equal to: a == b\n",
    "- not equal to: a != b\n",
    "- greater than or less than: a <b, a>b\n",
    "-  greater than equal or oposite: a >= b, a<=b"
   ]
  },
  {
   "cell_type": "markdown",
   "id": "d36fd494-3e94-47d2-b726-a8046bdde814",
   "metadata": {},
   "source": [
    "## Logical operators\n",
    "\n",
    "1. Logical AND:\n",
    "\n",
    "- print(True and False) --> False\n",
    "- print(True and True) -- True\n",
    "  \n",
    "2. Logical OR:\n",
    "- print(True or False) --> True\n",
    "- print(True or True) -- True\n",
    "- print(False or False) --> False\n",
    "  \n",
    "3. Logical NOT\n",
    "- print(not True) --> False\n",
    "- print(not False) --> True\n",
    "\n",
    "#### Logical operators with expresions\n",
    "- print(a >= b) and (a <=c)"
   ]
  },
  {
   "cell_type": "markdown",
   "id": "4bf8178d-01ce-4a4a-acee-a7e6322e72c9",
   "metadata": {},
   "source": [
    "# PYTHON PACKAGES AND STRUCTURES\n",
    "\n",
    "1. What is packages and how to use\n",
    "\n",
    "- Modules: are designed to be imported and reused in other Python, are grouped together into Python Packages, developers can create their own and even use third party packages. Python std library has numerous packages already installed.\n",
    "- Packages: are a group of 1 or more related modules.\n",
    "\n",
    "2. Python data structures: Lists, tupples, sets"
   ]
  },
  {
   "cell_type": "code",
   "execution_count": null,
   "id": "7015fa51-7e68-43e2-9a87-003a991fde6a",
   "metadata": {},
   "outputs": [],
   "source": [
    "import camelcase\n",
    "c= camelcase.CamelCase()\n",
    "s= 'how are you ?'\n",
    "print(c.hump(s))"
   ]
  },
  {
   "cell_type": "markdown",
   "id": "305fd29f-6b51-4931-89f5-ea6177df4711",
   "metadata": {},
   "source": [
    "## Python data structures"
   ]
  },
  {
   "cell_type": "markdown",
   "id": "629aa346-961b-4342-b6b1-a68a57e6b521",
   "metadata": {},
   "source": [
    "### LIST []\n",
    "- creating lists with str, number, mixed data types.\n",
    "\n",
    "- creating a nested list - ex: mixed_list=[1, 'john, 2,['a','b','c']]\n",
    "\n",
    "- creating empty list -ex: empty=[] print(empty)\n"
   ]
  },
  {
   "cell_type": "markdown",
   "id": "b7aebc7a-c52c-46ba-b265-dbe94b301e16",
   "metadata": {},
   "source": [
    "#### Characteristics of the list"
   ]
  },
  {
   "cell_type": "code",
   "execution_count": null,
   "id": "2f387f37-d271-4554-8da2-0bf970931c6a",
   "metadata": {},
   "outputs": [],
   "source": [
    "#Accessing elements in the lists\n",
    "\n",
    "my_list=['john','andy','olive','allie' ,'jade']\n",
    "mixed_list=[1, 'john', 2,['a','b','c']]\n",
    "\n",
    "print(my_list[0])\n",
    "print(my_list[-5])\n",
    "\n",
    "print(mixed_list[3][1])\n",
    "print(my_list[1:3]) # x[inclusive:exclusive]\n",
    "print(my_list[:]) \n",
    "print(my_list[:3])\n",
    "print(my_list[3:])"
   ]
  },
  {
   "cell_type": "code",
   "execution_count": null,
   "id": "0ec5b20c-a2e4-4934-a573-8e8bfd4a5f3a",
   "metadata": {
    "jupyter": {
     "source_hidden": true
    }
   },
   "outputs": [],
   "source": [
    "#LIST CAN BE MODIFIED\n",
    "my_list[0]='johny'\n",
    "num_list =[1,4,6]\n",
    "\n",
    "my_list.append('rob')\n",
    "print(my_list)\n",
    "sum(num_list)"
   ]
  },
  {
   "cell_type": "code",
   "execution_count": null,
   "id": "8034481b-b39a-4440-aed2-27b75bdb7c6c",
   "metadata": {},
   "outputs": [],
   "source": [
    "#LIST CAN BE MODIFIED\n",
    "my_list=['john','peter','sarah']\n",
    "my_list[0]='johny'\n",
    "num_list =[1,4,6]\n",
    "\n",
    "my_list.append('rob')\n",
    "\n",
    "\n",
    "my_list.pop()\n",
    "my_list.remove('peter')\n",
    "my_list.insert(1,'aimee')\n",
    "\n",
    "\n",
    "#creat new list to add multiple elements\n",
    "\n",
    "list_name =['sofia','katie','matt']\n",
    "my_list.extend(list_name)\n",
    "my_list\n",
    "\n",
    "# remove all the element in teh list by CLEAR METHOD\n",
    "list_name.clear()\n",
    "list_name\n",
    "my_list"
   ]
  },
  {
   "cell_type": "code",
   "execution_count": null,
   "id": "14ca5852-0eb8-4ec0-b007-b81957a3a4e7",
   "metadata": {},
   "outputs": [],
   "source": [
    "# COPYING THE LIST\n",
    "## LIASING : lists is impacted becasue only one memory\n",
    "\n",
    "a=[1,2,3]\n",
    "b=a\n",
    "b.append(4)\n",
    "a\n",
    "b\n",
    "\n",
    "## CLONING: lists is not impacted\n",
    "\n",
    "a=[1,2,3]\n",
    "b=list(a)\n",
    "b.remove(2)\n",
    "print(b)\n",
    "print(a)"
   ]
  },
  {
   "cell_type": "code",
   "execution_count": null,
   "id": "0ea6e76e-8629-4659-a4fc-411cc3dff5b2",
   "metadata": {},
   "outputs": [],
   "source": [
    "# OTHER LISTS METHOD\n",
    "list_not_ordered = [4,7,2,5]\n",
    "list_not_ordered.sort()\n",
    "list_not_ordered\n",
    "#help(list_not_ordered)\n",
    "\n",
    "#reverse: justchange the order temporary\n",
    "reverse_list =[1,2,3,4]\n",
    "reverse_list.reverse()\n",
    "reverse_list\n",
    "\n",
    "#concatenating lists\n",
    "new_con = list_not_ordered + reverse_list\n",
    "new_con\n",
    "\n",
    "#count\n",
    "new_con.count(4)\n",
    "\n",
    "# split\n",
    "text ='this is python basic'\n",
    "text_list = text.split()\n",
    "text_list"
   ]
  },
  {
   "cell_type": "markdown",
   "id": "292762f8-ee54-4305-a6d7-4c32682b5ca6",
   "metadata": {},
   "source": [
    "### TUPLES ()\n",
    "- tuples are limited version of lists\n",
    "- Is the data structure allows to store multiple items\n",
    "- memory mamgement, preserving the data, function\n",
    "- tuple are immutable, lists are mutable\\\n",
    "- tuple usualy store items of different data types, lists store the same data types\n",
    "\n",
    "\n",
    "ex: \n",
    "def math_operations(num1,num2):\n",
    "    sum =num1 + num2\n",
    "    diff = num1-num2\n",
    "    power=num1*num2\n",
    "    div=num1/num2\n",
    "    return(sum, diff, power,div)\n",
    "math_operations(4,2)"
   ]
  },
  {
   "cell_type": "code",
   "execution_count": null,
   "id": "b75056da-df68-475d-942f-d10c12bb6b4f",
   "metadata": {},
   "outputs": [],
   "source": [
    "def math_operations(num1,num2):\n",
    "    sum =num1 + num2\n",
    "    diff = num1-num2\n",
    "    power=num1*num2\n",
    "    div=num1/num2\n",
    "    return(sum, diff, power,div)\n",
    "math_operations(4,2)"
   ]
  },
  {
   "cell_type": "code",
   "execution_count": null,
   "id": "c43f36d2-8da9-4ccf-8f5b-87056c7dac73",
   "metadata": {},
   "outputs": [],
   "source": [
    "# LISTS HAVE THE ORDER\n",
    "# LISTS ALLOWS DUPLICATES\n",
    "\n",
    "# INDEXING AND SLICING\n",
    "new_list=[1,5,7,9,2,7]\n",
    "\n",
    "new_list.index(7)\n",
    "new_list[2]\n",
    "\n",
    "10 in new_list\n",
    "2 in new_list"
   ]
  },
  {
   "cell_type": "code",
   "execution_count": null,
   "id": "b2bdb7aa-46a6-4ef9-a05d-a756887f84cc",
   "metadata": {},
   "outputs": [],
   "source": [
    "# ceating a tuple\n",
    "my_tuple=('apple','banana','cherry')\n",
    "other_tuple='apple','banana','cherry' # also tuple\n",
    "single_element_tuple=('apple',) # must have comma in the end, otherwise will be str\n",
    "mixed_tuple=('apple','banana',1,2,3)\n",
    "empty_tuple=()\n",
    "\n",
    "#accessing elements\n",
    "print(my_tuple[0])\n",
    "print('apple' in my_tuple)\n",
    "print('appple' not in my_tuple)\n",
    "print('lemon' in my_tuple)\n",
    "print('lemon' not in my_tuple)\n"
   ]
  },
  {
   "cell_type": "code",
   "execution_count": null,
   "id": "6cf5dc18-3b6d-4baf-b7f5-e3d0aecd9e8c",
   "metadata": {},
   "outputs": [],
   "source": [
    "# tuple packing and unpacking\n",
    "\n",
    "name ='john'\n",
    "age=25\n",
    "city='Australia'\n",
    "packed_tuple=name, age, city\n",
    "print(packed_tuple)\n",
    "\n",
    "person = packed_tuple\n",
    "name, age, city = person\n",
    "print(name)\n",
    "print(age)\n",
    "print(city)"
   ]
  },
  {
   "cell_type": "code",
   "execution_count": null,
   "id": "cd6582cd-79c2-486f-ac38-399e5eb5f259",
   "metadata": {},
   "outputs": [],
   "source": [
    "# tuple used in a function\n",
    "\n",
    "def get_user_info():\n",
    "    name='John Doe'\n",
    "    age=30\n",
    "    city='New York'\n",
    "    return name, age, city\n",
    "\n",
    "name, age, city=get_user_info()\n",
    "\n",
    "print('Name:', name)\n",
    "print('Age:', age)\n",
    "print('City', city)"
   ]
  },
  {
   "cell_type": "markdown",
   "id": "c014e5af-5837-49cf-ba8c-6bad4bc3607e",
   "metadata": {},
   "source": [
    "#### Characteristics of the tuple\n",
    "- cannot be modified\n",
    "- have an order\n",
    "- allows duplicates"
   ]
  },
  {
   "cell_type": "markdown",
   "id": "3d826e54-b60d-45f8-bb65-8a42f4330cc4",
   "metadata": {},
   "source": [
    "- Tuples in real world\n",
    "  1. storing geographic cp-ordinates of location\n",
    "  2. geographic co-ordinates won't change\n",
    "  3. tuples are imutable and avoid any accidental changes "
   ]
  },
  {
   "cell_type": "code",
   "execution_count": null,
   "id": "897436f7-f0b0-448c-937c-eab6801105c4",
   "metadata": {},
   "outputs": [],
   "source": [
    "# practice tuples\n",
    "\n",
    "# modified a tuple- convert to list tuple.list() than modify - after modify can convert into tuple\n",
    "\n",
    "dir(my_tuple) # to see which function can use in tuples\n",
    "\n",
    "#packing the tuple\n",
    "quantity=(30,20,100)\n",
    "(apple, orange, *strawberry) = (30,20,100,40,80)\n",
    "strawberry"
   ]
  },
  {
   "cell_type": "markdown",
   "id": "e8eac61f-41b8-476f-8c71-ce3f5a767070",
   "metadata": {},
   "source": [
    "### SETS {}\n",
    "\n",
    "- unordered\n",
    "\n",
    "- don't accept suplicates\n",
    "\n",
    "- are mutable\n",
    "\n",
    "- can be tranformd into immutable sets with frozenset() commend\n",
    "\n",
    "- Sets in real world\n",
    "  1. email list in your application\n",
    "  2. sets are used to maintain list of unique items\n",
    "  3. mailing data needs unique email addresses "
   ]
  },
  {
   "cell_type": "markdown",
   "id": "8e215a3c-87c9-4351-b0b7-e3f7d6903a1c",
   "metadata": {},
   "source": [
    "- CREATING A SET"
   ]
  },
  {
   "cell_type": "code",
   "execution_count": null,
   "id": "5ee36680-9264-470a-ac50-88a2f9d99809",
   "metadata": {},
   "outputs": [],
   "source": [
    "my_str_set = {'aime', 'le'}\n",
    "my_int_set={1,2,3}\n",
    "mixed_set = {'aimme','le', 97}\n",
    "empty_set = set() \n",
    "\n",
    "print(type(empty_set))"
   ]
  },
  {
   "cell_type": "code",
   "execution_count": null,
   "id": "c221c880-7d6c-42ec-a421-7a2b7032ba3d",
   "metadata": {},
   "outputs": [],
   "source": [
    "# creating  set using lists\n",
    "\n",
    "lists=['aimee', 'le','1997']\n",
    "list_set = set(lists)\n",
    "print(list_set)"
   ]
  },
  {
   "cell_type": "markdown",
   "id": "87fbce94-f5a9-44c2-8c46-57b67fbe7a42",
   "metadata": {},
   "source": [
    "- ACCESSING ELEMENTS"
   ]
  },
  {
   "cell_type": "code",
   "execution_count": null,
   "id": "55e2a603-6412-4613-8e1e-3fea1f0f397d",
   "metadata": {},
   "outputs": [],
   "source": [
    "my_set = {'aimme','le', 97}\n",
    "\n",
    "for ele in my_set:\n",
    "    print(ele)"
   ]
  },
  {
   "cell_type": "code",
   "execution_count": null,
   "id": "700217f5-43c9-4b6b-a595-7ab19e5fe230",
   "metadata": {},
   "outputs": [],
   "source": [
    "# using operators to check if elements exist in the sets\n",
    "\n",
    "print('sarah' in my_set)\n",
    "print('sarah' not in my_set)"
   ]
  },
  {
   "cell_type": "markdown",
   "id": "4a0514d5-dd56-4e3e-ae43-0ced722c1b87",
   "metadata": {},
   "source": [
    "- CHARACTERISTICS OF SET"
   ]
  },
  {
   "cell_type": "code",
   "execution_count": null,
   "id": "404625b1-5a5f-40c6-960f-5526000b9ac8",
   "metadata": {},
   "outputs": [],
   "source": [
    "# can't be modified: my_set[0] = 'aimee.le'\n",
    "# set dont' have the order\n",
    "# sets not allow duplicates"
   ]
  },
  {
   "cell_type": "code",
   "execution_count": null,
   "id": "1c970854-1b13-495b-9b6b-3bee5c9b55ee",
   "metadata": {},
   "outputs": [],
   "source": [
    "# using set to remove duplicate of lists\n",
    "\n",
    "list=['candy','bread','sugar','salt','bread']\n",
    "create_set =set(list)\n",
    "create_set"
   ]
  },
  {
   "cell_type": "code",
   "execution_count": null,
   "id": "a5f289b9-38a3-4429-96be-46a852bf6078",
   "metadata": {},
   "outputs": [],
   "source": [
    "# manipulate data of sets\n",
    "\n",
    "#discard and remove elements\n",
    "create_set.discard('candy') #careful with remove functions.\n",
    "\n",
    "#ading elements\n",
    "create_set.add('seafood')\n",
    "create_set.add('tuna can')\n",
    "create_set\n",
    "\n",
    "#add multiple elements into the sets\n",
    "add_items=('fish','meat','powder')\n",
    "create_set.update(add_items)\n",
    "create_set\n",
    "\n",
    "create_set.pop() #delete random element in the set\n",
    "create_set"
   ]
  },
  {
   "cell_type": "code",
   "execution_count": null,
   "id": "c013e908-bee6-494c-82cf-2d4657e5d361",
   "metadata": {},
   "outputs": [],
   "source": [
    "# logic operation in sets\n",
    "\n",
    "a={'fish','dog','cat','cow'}\n",
    "b={'cow','chicken','lamp','koala','dog'}\n",
    "\n",
    "print(a.union(b))\n",
    "print(a.intersection(b))\n",
    "print(b.difference(a))\n",
    "print(b.issubset(a))\n",
    "print(b.issuperset(a))"
   ]
  },
  {
   "cell_type": "markdown",
   "id": "95d9d151-1d72-4692-b13f-e38b902880ba",
   "metadata": {},
   "source": [
    "#### DICTIONARIES\n",
    "- COMPONENTS\n",
    "- PROPERTIES\n",
    "\n",
    "#KEY-VALUE PAIRS: \n",
    "- key: unique keys, immutable\n",
    "- value: duplicate, mutable"
   ]
  },
  {
   "cell_type": "code",
   "execution_count": null,
   "id": "b798bdaf-46fe-45b6-81ff-9deac808904e",
   "metadata": {},
   "outputs": [],
   "source": [
    "#create dictionaries: product name and stock quantiy\n",
    "\n",
    "supply ={'apple':4,'mango':6, 'orange':8}\n",
    "print(type(supply))\n",
    "\n",
    "#select a value\n",
    "print(supply['apple'])\n",
    "\n",
    "#update the stock qty\n",
    "supply['orange'] = 2\n",
    "supply\n",
    "\n",
    "# constructing a new dictionary\n",
    "basket = dict(orange =1.2)\n",
    "print(basket)\n",
    "\n",
    "#adding elements\n",
    "basket['lemon'] = 0.9\n",
    "print(basket)"
   ]
  },
  {
   "cell_type": "code",
   "execution_count": null,
   "id": "1f0f2fc3-f923-482d-8c4a-dd6361bcb27e",
   "metadata": {},
   "outputs": [],
   "source": [
    "# create nested doctionaries\n",
    "\n",
    "inventory ={'orange':{'price':1.2,'stock':10}, 'lemon':{'price':0.9,'stock':20}}\n",
    "inventory"
   ]
  },
  {
   "cell_type": "code",
   "execution_count": null,
   "id": "85d33355-66ff-4e16-b587-00c887fd9492",
   "metadata": {},
   "outputs": [],
   "source": [
    "len(inventory)"
   ]
  },
  {
   "cell_type": "code",
   "execution_count": null,
   "id": "29cf49e2-584f-4f2b-98d8-0839732cda9d",
   "metadata": {},
   "outputs": [],
   "source": [
    "#retrieving a value\n",
    "inventory['orange']['price']"
   ]
  },
  {
   "cell_type": "code",
   "execution_count": null,
   "id": "213d6ac8-ab29-4395-9e0c-8838c791311a",
   "metadata": {},
   "outputs": [],
   "source": [
    "#converting lists into dictionaries\n",
    "product =['orange','lemon']\n",
    "prices = [1.2,0.9]\n",
    "cart = dict(zip(product,prices))\n",
    "cart"
   ]
  },
  {
   "cell_type": "code",
   "execution_count": null,
   "id": "7c0626ff-7844-459d-a74e-5f69ead77611",
   "metadata": {},
   "outputs": [],
   "source": [
    "#manipulating dictionaries\n",
    "\n",
    "supply ={'apple':4,'mango':6, 'orange':8}\n",
    "\n",
    "#total stock qty\n",
    "sum(supply.values())\n",
    "\n",
    "#list the items in the dictionaries\n",
    "print(supply.keys())\n",
    "print(supply.items())\n",
    "\n",
    "\n",
    "#SORT FUNCTIONS\n",
    "#asc\n",
    "print(sorted(supply))\n",
    "#desc\n",
    "print(sorted(supply.keys(), reverse = True))"
   ]
  },
  {
   "cell_type": "code",
   "execution_count": null,
   "id": "f4739064-edfa-4f25-912d-718816c5d088",
   "metadata": {},
   "outputs": [],
   "source": [
    "#mambership testing\n",
    "'orange' in supply"
   ]
  },
  {
   "cell_type": "code",
   "execution_count": null,
   "id": "49e4b26c-2cb9-4e24-bbb9-5620cd59c54f",
   "metadata": {},
   "outputs": [],
   "source": [
    "#retrieve value\n",
    "print(supply.get('mango'))\n",
    "print(supply.get('lemon', 'This key does not exist'))"
   ]
  },
  {
   "cell_type": "code",
   "execution_count": null,
   "id": "e468255c-aa5a-4007-86e9-924ccf0c144f",
   "metadata": {},
   "outputs": [],
   "source": [
    "#altering dictionaries\n",
    "\n",
    "#add new elements\n",
    "supply.update({'lemon':10})\n",
    "supply.update({'mango':100})\n",
    "print(supply)\n",
    "\n",
    "# can also add multiple elements\n",
    "# remove element\n",
    "supply.pop('banana','This key does not exist')\n",
    "\n",
    "supply.popitem()\n",
    "\n",
    "#remove all elements\n",
    "supply.clear()\n",
    "print(supply)"
   ]
  },
  {
   "cell_type": "code",
   "execution_count": null,
   "id": "63abf3de-1134-4fcb-897c-db9577882594",
   "metadata": {},
   "outputs": [],
   "source": [
    "# Aliasing and copying\n",
    "supply ={'apple':4,'mango':6, 'orange':8}\n",
    "supply_copy =supply.copy()\n",
    "supply_copy.update({'pinable':10})\n",
    "\n",
    "print(supply)\n",
    "print(supply_copy)"
   ]
  }
 ],
 "metadata": {
  "kernelspec": {
   "display_name": "Python 3 (ipykernel)",
   "language": "python",
   "name": "python3"
  },
  "language_info": {
   "codemirror_mode": {
    "name": "ipython",
    "version": 3
   },
   "file_extension": ".py",
   "mimetype": "text/x-python",
   "name": "python",
   "nbconvert_exporter": "python",
   "pygments_lexer": "ipython3",
   "version": "3.12.4"
  }
 },
 "nbformat": 4,
 "nbformat_minor": 5
}

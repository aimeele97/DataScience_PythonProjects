{
 "cells": [
  {
   "cell_type": "markdown",
   "id": "964d3d33-7ecd-4902-9378-a5fc810a7426",
   "metadata": {},
   "source": [
    "# CONDITIONAL STATEMENTS"
   ]
  },
  {
   "cell_type": "code",
   "execution_count": null,
   "id": "44e134f7-b168-469a-bf10-3133f4c2c0ca",
   "metadata": {},
   "outputs": [],
   "source": [
    "print(bool(None))\n",
    "print(bool(0))\n",
    "print(bool([]))\n",
    "print(bool({}))\n",
    "print(bool(3))\n",
    "print(bool([1,3]))"
   ]
  },
  {
   "cell_type": "code",
   "execution_count": null,
   "id": "6f1cd31b-f607-479a-8682-565ef9e13daa",
   "metadata": {},
   "outputs": [],
   "source": [
    "num = 20 # condition is true\n",
    "lst=[1,3,4]\n",
    "\n",
    "if bool(num):\n",
    "    print('The expression is true.')\n",
    "    print(f'Number is {num}')\n",
    "\n",
    "if lst:\n",
    "    print('The expression is true')\n",
    "    print(f'list contians some elements.')"
   ]
  },
  {
   "cell_type": "code",
   "execution_count": null,
   "id": "fe1afacd-8ee9-4697-b843-6bb54b7e7b4f",
   "metadata": {},
   "outputs": [],
   "source": [
    "num = 0 # conditiona is false\n",
    "lst=[]\n",
    "\n",
    "if num:\n",
    "    print('the expression is true')\n",
    "if lst:\n",
    "    print('List is not empty')"
   ]
  },
  {
   "cell_type": "code",
   "execution_count": null,
   "id": "f44f9e3a-dd1e-4007-a394-a1f9217d3b70",
   "metadata": {},
   "outputs": [],
   "source": [
    "balance = float(input('What is your bank account balance'))\n",
    "\n",
    "if balance:\n",
    "    print(\"Congratulations ! you have some money to play\")\n",
    "    print('Your balance is {balance}')\n",
    "else:\n",
    "    print('You need to have money into your account to be allowed to play')"
   ]
  },
  {
   "cell_type": "code",
   "execution_count": null,
   "id": "b0170678-7e07-4e62-9ecb-6ebd08ee5265",
   "metadata": {},
   "outputs": [],
   "source": [
    "# Comparison operators\n",
    "\n",
    "balance = float(input('What is your bank account balance'))\n",
    "\n",
    "if balance < 0:\n",
    "    print('Your are in debt')\n",
    "elif balance == 0:\n",
    "    print('Your balance is Zero')\n",
    "else:\n",
    "    print('You have money')\n",
    "    if balance < 2000:\n",
    "        print('you cannot have a loan')\n",
    "    else:\n",
    "        print('you can have a loan')\n",
    "print('Thanks for sharing the number')"
   ]
  },
  {
   "cell_type": "markdown",
   "id": "588a614e-c2e6-4d27-bf8d-5a3c267b3421",
   "metadata": {},
   "source": [
    "#Logical operators"
   ]
  },
  {
   "cell_type": "markdown",
   "id": "15d21048-1dfa-4ca9-9953-b8f9787cc8ac",
   "metadata": {},
   "source": [
    "# LOOP\n",
    "1. WHILE LOOP\n",
    "2. FOR LOOP for the sequence of elements"
   ]
  },
  {
   "cell_type": "code",
   "execution_count": null,
   "id": "53269ea8-8d1f-44f6-9f5d-ad38f9b316c6",
   "metadata": {},
   "outputs": [],
   "source": [
    "print(\"Grocery list program\")\n",
    "grocery_list =[]\n",
    "user_input = None\n",
    "\n",
    "while user_input !='end':\n",
    "    user_input = input('Input an item (type \"end\" to finish): ')\n",
    "    if user_input !='end':\n",
    "        grocery_list.append(user_input)\n",
    "\n",
    "print('Here is you shopping list:')\n",
    "print(grocery_list)\n",
    "i = 0\n",
    "while i < len(grocery_list):\n",
    "    print(f'{grocery_list[i]}')\n",
    "    i = i + 1"
   ]
  },
  {
   "cell_type": "code",
   "execution_count": null,
   "id": "4b18b2a9-3b4b-47a2-beaa-4861caba6dd5",
   "metadata": {},
   "outputs": [],
   "source": [
    "#example\n",
    "\n",
    "lst=[23,12,45]\n",
    "i = 0\n",
    "\n",
    "while i < len(lst):\n",
    "    print(f'{i} element is {lst[i]}')\n",
    "    i = i + 1\n",
    "\n",
    "print('Moving on!')"
   ]
  },
  {
   "cell_type": "markdown",
   "id": "0ad0d619-e18d-4424-8c9a-0ad425f61e27",
   "metadata": {},
   "source": [
    "##For loop"
   ]
  },
  {
   "cell_type": "code",
   "execution_count": null,
   "id": "767e458e-6671-490f-b820-eda415ab0bd0",
   "metadata": {},
   "outputs": [],
   "source": [
    "lst = [23, 45, 67]\n",
    "\n",
    "for num in lst:\n",
    "    print(num)\n",
    "\n",
    "print('Moving on')"
   ]
  },
  {
   "cell_type": "code",
   "execution_count": null,
   "id": "d02b053a-3674-4173-993f-bb84dc9de032",
   "metadata": {},
   "outputs": [],
   "source": [
    "# Accessing the indices while iterating over a list\n",
    "\n",
    "lst =[12,45,23]\n",
    "\n",
    "for index, value in enumerate(lst):\n",
    "    print(f'{index}. {value}')"
   ]
  },
  {
   "cell_type": "code",
   "execution_count": null,
   "id": "2582fd1e-74dd-410b-a4ba-9010a202ac5f",
   "metadata": {},
   "outputs": [],
   "source": [
    "# iterating over dictionaries\n",
    "\n",
    "bank_account = {\n",
    "    'name': 'Luna',\n",
    "    'number': '0123',\n",
    "    'balance': 20000\n",
    "}      \n",
    "#Iterate just over the keys\n",
    "\n",
    "print('keys')\n",
    "for key in bank_account.keys():\n",
    "    print(key)\n",
    "\n",
    "# interate just over the values\n",
    "print('values')\n",
    "for value in bank_account.values():\n",
    "    print(value)\n",
    "\n",
    "# iterate both keys and values\n",
    "\n",
    "print('items')\n",
    "for item in bank_account.items():\n",
    "    print(item)"
   ]
  },
  {
   "cell_type": "code",
   "execution_count": null,
   "id": "c90c3c00-00ef-4987-8c0c-4ab82d4801ae",
   "metadata": {},
   "outputs": [],
   "source": [
    "# range function in loop\n",
    "\n",
    "for i in range(6):\n",
    "    print(i)\n",
    "\n",
    "print('end the range')"
   ]
  },
  {
   "cell_type": "code",
   "execution_count": null,
   "id": "5f5df5b7-d2bb-48ee-a9c3-381f4e1ae0ea",
   "metadata": {},
   "outputs": [],
   "source": [
    "# breaking out of the loop\n",
    "\n",
    "print ('Grocery list grogram')\n",
    "grocery_list =[]\n",
    "\n",
    "while True:\n",
    "    user_input = input('Input a item (type \"end\" to finish:')\n",
    "    if user_input == 'end':\n",
    "        break #can also use in FOR LOOP\n",
    "    grocery_list.append(user_input)\n",
    "\n",
    "print('Here is your shopping list:')\n",
    "for item in grocery_list:\n",
    "    print(f'{item}')  "
   ]
  },
  {
   "cell_type": "code",
   "execution_count": null,
   "id": "2a81ec85-ba83-499a-bbae-4cd913e9ed57",
   "metadata": {},
   "outputs": [],
   "source": [
    "# loops with the also Clause\n",
    "\n",
    "print ('Grocery list grogram')\n",
    "grocery_list =[]\n",
    "\n",
    "while True:\n",
    "    user_input = input('Input a item (type \"end\" to finish:')\n",
    "    if user_input == 'end':\n",
    "        break #can also use in FOR LOOP\n",
    "    grocery_list.append(user_input)\n",
    "\n",
    "print('Here is your shopping list:')\n",
    "for item in grocery_list:\n",
    "    print(f'{item}') \n",
    "\n",
    "bread_on_list = False\n",
    "for item in grocery_list:\n",
    "    if item =='bread':\n",
    "        print('Bread is on the list')\n",
    "        bread_on_list = True\n",
    "        break\n",
    "\n",
    "else:\n",
    "    print('Bread is not on the list.')\n"
   ]
  },
  {
   "cell_type": "markdown",
   "id": "3082674a-4b50-45ab-ac66-478719ef726a",
   "metadata": {},
   "source": [
    "# REUSING THE CODE WITH FUNCTIONS"
   ]
  },
  {
   "cell_type": "code",
   "execution_count": null,
   "id": "da1a61aa-fb2b-4e3b-81c6-323b69c91bf3",
   "metadata": {},
   "outputs": [],
   "source": [
    "# defining a function\n",
    "\n",
    "def seperate_line():\n",
    "    print('-' * 80)\n",
    "\n",
    "print ('Grocery list grogram')\n",
    "grocery_list =[]\n",
    "\n",
    "while True:\n",
    "    user_input = input('Input a item (type \"end\" to finish:')\n",
    "    if user_input == 'end':\n",
    "        break #can also use in FOR LOOP\n",
    "    grocery_list.append(user_input)\n",
    "\n",
    "seperate_line()\n",
    "\n",
    "print('Here is your shopping list:')\n",
    "for item in grocery_list:\n",
    "    print(f'{item}') \n",
    "    \n",
    "seperate_line()\n",
    "\n",
    "bread_on_list = False\n",
    "for item in grocery_list:\n",
    "    if item =='bread':\n",
    "        print('Bread is on the list')\n",
    "        bread_on_list = True\n",
    "        break\n",
    "\n",
    "else:\n",
    "    print('Bread is not on the list.')\n"
   ]
  },
  {
   "cell_type": "code",
   "execution_count": null,
   "id": "3792bf68-4a0f-4023-9e34-d17f586cc657",
   "metadata": {},
   "outputs": [],
   "source": [
    "# defining a function\n",
    "\n",
    "def seperate_line():\n",
    "    print('-' * 80)\n",
    "\n",
    "print ('Grocery list grogram')\n",
    "grocery_list =[]\n",
    "\n",
    "while True:\n",
    "    user_input = input('Input a item (type \"end\" to finish):')\n",
    "    if user_input == 'end':\n",
    "        break #can also use in FOR LOOP\n",
    "    grocery_list.append(user_input)\n",
    "\n",
    "seperate_line()\n",
    "\n",
    "print('Here is your shopping list:')\n",
    "for item in grocery_list:\n",
    "    print(f'{item}') \n",
    "    \n",
    "seperate_line()\n",
    "\n",
    "def find_in_list(item_list, item_name):\n",
    "    for item in item_list:\n",
    "        if item == item_name:\n",
    "            print(f'{item_name} is on the list.')\n",
    "            break\n",
    "    else:\n",
    "        print(f'{item_name} is not on the list.')\n",
    "\n",
    "find_in_list(grocery_list,'apple') # can also use keyword arguments(item_list = grocery, item_name = 'apple')\n",
    "find_in_list(grocery_list,'carrot')\n",
    "find_in_list(grocery_list,'sugar')    "
   ]
  },
  {
   "cell_type": "code",
   "execution_count": null,
   "id": "91a157e5-b7b0-408d-9040-4c793be7c464",
   "metadata": {},
   "outputs": [],
   "source": [
    "# optional parameter with a default value\n",
    "\n",
    "# defining a function\n",
    "\n",
    "def seperate_line():\n",
    "    print('-' * 80)\n",
    "\n",
    "print ('Grocery list grogram')\n",
    "grocery_list =[]\n",
    "\n",
    "while True:\n",
    "    user_input = input('Input a item (type \"end\" to finish):')\n",
    "    if user_input == 'end':\n",
    "        break #can also use in FOR LOOP\n",
    "    grocery_list.append(user_input)\n",
    "\n",
    "seperate_line()\n",
    "\n",
    "print('Here is your shopping list:')\n",
    "for item in grocery_list:\n",
    "    print(f'{item}') \n",
    "    \n",
    "seperate_line()\n",
    "\n",
    "def find_in_list(item_list, item_name='bread'):\n",
    "    for item in item_list:\n",
    "        if item == item_name:\n",
    "            print(f'{item_name} is on the list.')\n",
    "            break\n",
    "    else:\n",
    "        print(f'{item_name} is not on the list.')\n",
    "\n",
    "find_in_list(item_list = grocery_list, item_name = 'apple')\n",
    "find_in_list(grocery_list,'carrot')\n",
    "find_in_list(grocery_list) "
   ]
  },
  {
   "cell_type": "markdown",
   "id": "bea78989-761f-439a-a778-6aee2348f259",
   "metadata": {},
   "source": [
    "## VARIADIC FUNCTIONS"
   ]
  },
  {
   "cell_type": "code",
   "execution_count": null,
   "id": "b932c883-63d5-451e-825c-d17690039adf",
   "metadata": {},
   "outputs": [],
   "source": [
    "def print_parmas(x, args, **kwargs):\n",
    "    for item in args:\n",
    "        print(item)\n",
    "    for val in kwargs.values():\n",
    "        print(val)\n",
    "\n",
    "print_parmas('a',['b','c','d'], first='e', second='f')"
   ]
  },
  {
   "cell_type": "code",
   "execution_count": null,
   "id": "ca7e66cf-f355-4e8a-be0e-2629d135c386",
   "metadata": {},
   "outputs": [],
   "source": [
    "def seperate_line():\n",
    "    print('-' * 80)\n",
    "\n",
    "print ('Grocery list grogram')\n",
    "grocery_list =[]\n",
    "\n",
    "while True:\n",
    "    user_input = input('Input a item (type \"end\" to finish):')\n",
    "    if user_input == 'end':\n",
    "        break #can also use in FOR LOOP\n",
    "    grocery_list.append(user_input)\n",
    "\n",
    "seperate_line()\n",
    "\n",
    "print('Here is your shopping list:')\n",
    "for item in grocery_list:\n",
    "    print(f'{item}') \n",
    "    \n",
    "seperate_line()\n",
    "\n",
    "def find_in_list(some_list, *item_names):\n",
    "    for item_name in item_names:\n",
    "        for item in some_list:\n",
    "            if item == item_name:\n",
    "                print(f'{item_name} is on the list!')\n",
    "                break\n",
    "        else:\n",
    "            print(f'{item_name} is not on the list!')\n",
    "\n",
    "find_in_list(grocery_list, 'potatoes', 'apple', 'lemon')\n"
   ]
  },
  {
   "cell_type": "markdown",
   "id": "378b4e25-2167-4f94-88ec-287a9aeed549",
   "metadata": {},
   "source": [
    "## RETURNING A VALUE IN FUNCTION"
   ]
  },
  {
   "cell_type": "code",
   "execution_count": 3,
   "id": "1243840d-6f32-457c-aa52-34742f6a20c1",
   "metadata": {},
   "outputs": [
    {
     "name": "stdout",
     "output_type": "stream",
     "text": [
      "Grocery list program\n"
     ]
    },
    {
     "name": "stdin",
     "output_type": "stream",
     "text": [
      "Input a item (type \"end\" to finish): apple\n",
      "Input item's price:  4\n",
      "Input a item (type \"end\" to finish): lemon\n",
      "Input item's price:  3\n",
      "Input a item (type \"end\" to finish): k\n",
      "Input item's price:  4\n",
      "Input a item (type \"end\" to finish): end\n"
     ]
    },
    {
     "name": "stdout",
     "output_type": "stream",
     "text": [
      "--------------------------------------------------------------------------------\n",
      "Here is your shopping list:\n",
      "apple: 4.0\n",
      "lemon: 3.0\n",
      "k: 4.0\n",
      "--------------------------------------------------------------------------------\n",
      "potatoes is not on the list!\n",
      "apple is on the list!\n",
      "lemon is on the list!\n",
      "--------------------------------------------------------------------------------\n",
      "Total amount: 11.0 dollars\n"
     ]
    }
   ],
   "source": [
    "def seperate_line():\n",
    "    print('-' * 80)\n",
    "\n",
    "print ('Grocery list program')\n",
    "grocery_list = {}\n",
    "\n",
    "while True:\n",
    "    item_name_input = input('Input a item (type \"end\" to finish):')\n",
    "    if item_name_input == 'end':\n",
    "        break #can also use in FOR LOOP\n",
    "    item_price_input = input(\"Input item's price: \")\n",
    "    grocery_list[item_name_input] = float(item_price_input)\n",
    "    \n",
    "seperate_line()\n",
    "\n",
    "print('Here is your shopping list:')\n",
    "for name, price in grocery_list.items():\n",
    "    print(f'{name}: {price}') \n",
    "    \n",
    "seperate_line()\n",
    "\n",
    "def find_in_list(some_dict, *item_names):\n",
    "    for item_name in item_names:\n",
    "        for item in some_dict.keys():\n",
    "            if item == item_name:\n",
    "                print(f'{item_name} is on the list!')\n",
    "                break\n",
    "        else:\n",
    "            print(f'{item_name} is not on the list!')\n",
    "\n",
    "def groceries_total_cost(grocery_list):\n",
    "    total_cost = 0\n",
    "    for item_price in grocery_list.values():\n",
    "        total_cost += item_price\n",
    "    return total_cost\n",
    "\n",
    "find_in_list(grocery_list, 'potatoes', 'apple', 'lemon')\n",
    "\n",
    "seperate_line()\n",
    "\n",
    "price = groceries_total_cost(grocery_list)\n",
    "print('Total amount:', price, 'dollars')\n"
   ]
  },
  {
   "cell_type": "markdown",
   "id": "84fde5ee-b8ee-4ddb-bd35-8403aa2992a0",
   "metadata": {},
   "source": [
    "## PASSING MUTABLE OBJECTS IN FUNCTION PARAMETERS\n",
    "\n",
    "- MUTABLE AND IMMUTABLE"
   ]
  },
  {
   "cell_type": "code",
   "execution_count": null,
   "id": "fa9fe196-3104-43f3-a578-314cd4decf23",
   "metadata": {},
   "outputs": [],
   "source": [
    "# MUTABLE: e.x: interger\n",
    "\n",
    "x = 2\n",
    "\n",
    "def add_two(num):\n",
    "    num += 2\n",
    "    return num\n",
    "\n",
    "x = add_two(x)\n",
    "print(x)"
   ]
  },
  {
   "cell_type": "code",
   "execution_count": null,
   "id": "161d994f-2cf1-4229-ac61-0927a1981d8b",
   "metadata": {},
   "outputs": [],
   "source": [
    "# IMMUTABLE\n",
    "\n",
    "def add_to_list(some_list, item):\n",
    "    some_list.append(item)\n",
    "\n",
    "lst = [1,2,3]\n",
    "\n",
    "add_to_list(lst, 4)\n",
    "\n",
    "print(lst)"
   ]
  },
  {
   "cell_type": "markdown",
   "id": "40c58bfb-013f-418b-aefd-81a414bafb84",
   "metadata": {},
   "source": [
    "# GROUPING DATA AND FUNCTIONS IN OBJECTS"
   ]
  },
  {
   "cell_type": "markdown",
   "id": "4c366f09-d7d4-4eff-a62c-3fb2d08e009e",
   "metadata": {},
   "source": [
    "## DESIGNING A CLASS: Class name, function - class attributes\n",
    "## CREATING A CLASS:"
   ]
  },
  {
   "cell_type": "code",
   "execution_count": null,
   "id": "1b1ab304-61e9-4e2f-a016-e845e04d759b",
   "metadata": {},
   "outputs": [],
   "source": [
    "class BankAccount:\n",
    "    def __init__(self, name, number, balance):\n",
    "        self.name = name\n",
    "        self.number = number\n",
    "        self.balance = balance\n",
    "\n",
    "account1 = BankAccount('Luna', '0123', 20000)\n",
    "account2 = BankAccount('Aimee', '23456', 10000)\n",
    "print(account1.name)"
   ]
  },
  {
   "cell_type": "code",
   "execution_count": null,
   "id": "e2cc7f5d-1296-4897-ade0-48d194db62a3",
   "metadata": {},
   "outputs": [],
   "source": [
    "# Adding functionality with Methods\n",
    "\n",
    "class BankAccount:\n",
    "    def __init__(self, name, number, balance):\n",
    "        self.name = name\n",
    "        self.number = number\n",
    "        self.balance = balance\n",
    "\n",
    "    def deposit(self, amount):\n",
    "        self.balance += amount\n",
    "    \n",
    "    def withdraw(self, amount):\n",
    "        if self.balance >= amount:\n",
    "            self.balance -= amount\n",
    "        else:\n",
    "            print('Insufficient funds')\n",
    "    \n",
    "    def info(self):\n",
    "            return f'{self.name} {self.number} {self.balance}'\n",
    "\n",
    "account1 = BankAccount('Luna', '0123', 20000)\n",
    "account2 = BankAccount('Peter', '23456', 10000)\n",
    "\n",
    "print(account2.info())\n",
    "account2.deposit(1000)\n",
    "account2.withdraw(12000)\n",
    "print(account2.info())"
   ]
  },
  {
   "cell_type": "markdown",
   "id": "3a2f35bf-4217-472d-9f34-a2467b6556d2",
   "metadata": {},
   "source": [
    "\n"
   ]
  },
  {
   "cell_type": "markdown",
   "id": "5d0880c5-adbc-4627-813e-6d50f0dcdfb9",
   "metadata": {},
   "source": [
    "### GROCERY LIST CLASS"
   ]
  },
  {
   "cell_type": "code",
   "execution_count": 2,
   "id": "1a61316d-647d-4a33-bde7-396f19a67f51",
   "metadata": {},
   "outputs": [
    {
     "name": "stdin",
     "output_type": "stream",
     "text": [
      "Input the item name (type end to finish):  apple\n",
      "Enter item price:  7\n",
      "Input the item name (type end to finish):  strawberry\n",
      "Enter item price:  5\n",
      "Input the item name (type end to finish):  bread\n",
      "Enter item price:  3\n",
      "Input the item name (type end to finish):  end\n"
     ]
    },
    {
     "name": "stdout",
     "output_type": "stream",
     "text": [
      "--------------------------------------------------------------------------------\n",
      "potatos is not on the list!\n",
      "potatos is not on the list!\n",
      "potatos is not on the list!\n",
      "mango is not on the list!\n",
      "mango is not on the list!\n",
      "mango is not on the list!\n",
      "lemon is not on the list!\n",
      "lemon is not on the list!\n",
      "lemon is not on the list!\n",
      "--------------------------------------------------------------------------------\n",
      "Here is your Monday grocery list: \n",
      "apple: 7.0\n",
      "strawberry: 5.0\n",
      "bread: 3.0\n",
      "Total amount: 15.0\n"
     ]
    }
   ],
   "source": [
    "class GroceryList:\n",
    "    def __init__ (self, name):\n",
    "        self.name = name\n",
    "        self.groceries_dict ={}\n",
    "\n",
    "    def input_groceries(self):\n",
    "        while True:\n",
    "            item_name_input = input('Input the item name (type end to finish): ')\n",
    "            if item_name_input == 'end':\n",
    "                break\n",
    "            item_price_input = input('Enter item price: ')\n",
    "            self.groceries_dict[item_name_input] = float(item_price_input)\n",
    "\n",
    "    def info(self):\n",
    "        print(f'Here is your {self.name} grocery list: ')\n",
    "        for name, price in self.groceries_dict.items():\n",
    "            print(f'{name}: {price}')\n",
    "        print(f'Total amount: {self.total_cost()}')\n",
    "\n",
    "    def find_in_dict(self, *item_names):\n",
    "        for item_name in item_names:\n",
    "            for item in self.groceries_dict.keys():\n",
    "                if item == item_name:\n",
    "                    print(f'{item_name} is on the list!')\n",
    "                    break\n",
    "                else:\n",
    "                    print(f'{item_name} is not on the list!')\n",
    "\n",
    "    def total_cost(self):\n",
    "        total_cost = 0\n",
    "        for item_price in self.groceries_dict.values():\n",
    "            total_cost += item_price\n",
    "        return total_cost\n",
    "\n",
    "def seperate_line():\n",
    "    print('-'*80)\n",
    "\n",
    "monday_groceries = GroceryList('Monday')\n",
    "monday_groceries.input_groceries()\n",
    "seperate_line()\n",
    "monday_groceries.find_in_dict('potatos','mango','lemon')\n",
    "seperate_line()\n",
    "monday_groceries.info()"
   ]
  },
  {
   "cell_type": "markdown",
   "id": "0c792430-3367-4555-9143-df62038f6b35",
   "metadata": {},
   "source": [
    "## "
   ]
  }
 ],
 "metadata": {
  "kernelspec": {
   "display_name": "Python 3 (ipykernel)",
   "language": "python",
   "name": "python3"
  },
  "language_info": {
   "codemirror_mode": {
    "name": "ipython",
    "version": 3
   },
   "file_extension": ".py",
   "mimetype": "text/x-python",
   "name": "python",
   "nbconvert_exporter": "python",
   "pygments_lexer": "ipython3",
   "version": "3.12.4"
  }
 },
 "nbformat": 4,
 "nbformat_minor": 5
}
